{
  "cells": [
    {
      "cell_type": "markdown",
      "metadata": {
        "id": "TmW8U7jBXT-M"
      },
      "source": [
        "Dataset rekomendasi buku resep makanan"
      ]
    },
    {
      "cell_type": "markdown",
      "metadata": {
        "id": "j3HDLXPyHieg"
      },
      "source": [
        "import dataset dan library"
      ]
    },
    {
      "cell_type": "code",
      "execution_count": 117,
      "metadata": {
        "colab": {
          "base_uri": "https://localhost:8080/"
        },
        "id": "UzqiMNkfRAAe",
        "outputId": "dc7174fb-4d67-4d71-9490-3dde31d972f4"
      },
      "outputs": [
        {
          "name": "stdout",
          "output_type": "stream",
          "text": [
            "   user_id  recipe_id  rating           dateLastModified  \\\n",
            "0        1     229860       5  2012-10-31T17:54:41.867\\n   \n",
            "1        2     229921       5   2012-11-17T16:49:10.54\\n   \n",
            "2        2     229940       5  2012-11-18T16:15:56.177\\n   \n",
            "3        2     229940       5   2012-11-19T19:12:26.82\\n   \n",
            "4        2     229906       5   2012-11-22T19:06:07.08\\n   \n",
            "\n",
            "                          recipe_name  \n",
            "0  Chef John's Pumpkin Cinnamon Rolls  \n",
            "1  Apple Chicken Sausage Brunch Braid  \n",
            "2                 Chicken Ranch Dijon  \n",
            "3                 Chicken Ranch Dijon  \n",
            "4     Mom's Candied Yams with Caramel  \n"
          ]
        }
      ],
      "source": [
        "import pandas as pd\n",
        "import numpy as np\n",
        "\n",
        "df = pd.read_excel('.xlsx')\n",
        "print(df.head())"
      ]
    },
    {
      "cell_type": "code",
      "execution_count": null,
      "metadata": {
        "colab": {
          "base_uri": "https://localhost:8080/"
        },
        "id": "13bbSi7ChkHC",
        "outputId": "791b4b01-bdf6-4113-ca81-33aad4eee01d"
      },
      "outputs": [],
      "source": [
        "!pip install scikit-surprise\n",
        "from surprise import Dataset, Reader, SVD\n",
        "from sklearn.feature_extraction.text import TfidfVectorizer\n",
        "from sklearn.metrics.pairwise import linear_kernel"
      ]
    },
    {
      "cell_type": "code",
      "execution_count": 150,
      "metadata": {
        "id": "l7NlJIOxBWA0"
      },
      "outputs": [],
      "source": [
        "# for cosine similarity using linear_kernel\n",
        "# content_df = df[['recipe_id', 'recipe_name']]\n",
        "# content_df['Content'] = content_df.apply(lambda row: ' '.join(row.dropna().astype(str)), axis=1)\n",
        "\n",
        "# # Use TF-IDF vectorizer to convert content into a matrix of TF-IDF features\n",
        "# tfidf_vectorizer = TfidfVectorizer()\n",
        "# content_matrix = tfidf_vectorizer.fit_transform(content_df['Content'])\n",
        "\n",
        "# content_similarity = linear_kernel(content_matrix, content_matrix)\n",
        "\n",
        "# reader = Reader(rating_scale=(1, 5))\n",
        "# data = Dataset.load_from_df(df[['user_id',\n",
        "#                                   'recipe_id',\n",
        "#                                   'rating']], reader)\n",
        "\n",
        "# def get_content_based_recommendations(product_id, top_n):\n",
        "#     index = content_df[content_df['recipe_id'] == product_id].index[0]\n",
        "#     similarity_scores = content_similarity[index]\n",
        "#     similar_indices = similarity_scores.argsort()[::-1][1:top_n + 1]\n",
        "#     recommendations = content_df.loc[similar_indices, 'recipe_id'].values\n",
        "#     return recommendations\n",
        "\n",
        "# for Pearson correlation coefficient from library sklearn\n",
        "from sklearn.metrics.pairwise import linear_kernel\n",
        "from sklearn.feature_extraction.text import TfidfVectorizer\n",
        "\n",
        "content_similarity = 1 - linear_kernel(content_matrix, content_matrix)\n",
        "\n",
        "def get_content_based_recommendations(product_id, top_n):\n",
        "    index = content_df[content_df['recipe_id'] == product_id].index[0]\n",
        "    similarity_scores = content_similarity[index]\n",
        "    similar_indices = similarity_scores.argsort()[::-1][1:top_n + 1]\n",
        "    recommendations = content_df.loc[similar_indices, 'recipe_id'].values\n",
        "    return recommendations\n"
      ]
    },
    {
      "cell_type": "code",
      "execution_count": 144,
      "metadata": {
        "id": "3Y7lPBleBXFC"
      },
      "outputs": [],
      "source": [
        "algo = SVD()\n",
        "trainset = data.build_full_trainset()\n",
        "algo.fit(trainset)\n",
        "\n",
        "def get_collaborative_filtering_recommendations(user_id, top_n):\n",
        "    testset = trainset.build_anti_testset()\n",
        "    testset = filter(lambda x: x[0] == user_id, testset)\n",
        "    predictions = algo.test(testset)\n",
        "    predictions.sort(key=lambda x: x.est, reverse=True)\n",
        "    recommendations = [prediction.iid for prediction in predictions[:top_n]]\n",
        "    return recommendations"
      ]
    },
    {
      "cell_type": "code",
      "execution_count": 149,
      "metadata": {
        "id": "kkJDrCjgBZNV"
      },
      "outputs": [],
      "source": [
        "def get_hybrid_recommendations(user_id, product_id, top_n):\n",
        "    content_based_recommendations = get_content_based_recommendations(product_id, top_n)\n",
        "    collaborative_filtering_recommendations = get_collaborative_filtering_recommendations(user_id, top_n)\n",
        "    # Combine the recommendations from both approaches\n",
        "    all_recommendations = np.concatenate([content_based_recommendations, collaborative_filtering_recommendations])\n",
        "    # Get unique product IDs using numpy.unique\n",
        "    hybrid_recommendations_ids = np.unique(all_recommendations)\n",
        "    # Convert unique product IDs to product names\n",
        "    hybrid_recommendations = content_df[content_df['recipe_id'].isin(hybrid_recommendations_ids)].drop_duplicates(subset=['recipe_id'])\n",
        "    # Extract the desired columns\n",
        "    hybrid_recommendations = hybrid_recommendations[['recipe_id', 'recipe_name']]\n",
        "\n",
        "    return hybrid_recommendations[:top_n]"
      ]
    },
    {
      "cell_type": "code",
      "execution_count": 148,
      "metadata": {
        "colab": {
          "base_uri": "https://localhost:8080/"
        },
        "id": "sbcaVsfSBbMA",
        "outputId": "db974919-d611-42a2-8ea1-39db9898f040"
      },
      "outputs": [
        {
          "name": "stdout",
          "output_type": "stream",
          "text": [
            "Hybrid Recommendations for User 1 based on Product 229875:\n",
            "recipe_id: 229921, Product Name: Apple Chicken Sausage Brunch Braid\n",
            "recipe_id: 229923, Product Name: Roasted Sweet Potatoes and Vegetables With Thyme and Maple Syrup\n",
            "recipe_id: 229993, Product Name: White Sauce for Pasta\n",
            "recipe_id: 230132, Product Name: Chef John's Pumpkin Pie\n",
            "recipe_id: 230134, Product Name: Crisp Marinated Cucumbers\n",
            "recipe_id: 230137, Product Name: Cheesy Mashed Potatoes with Cubed Ham\n",
            "recipe_id: 230141, Product Name: Slow Cooker Chicken and Dressing\n",
            "recipe_id: 230159, Product Name: Sweet, Salty, Spicy Party Nuts\n",
            "recipe_id: 230228, Product Name: Stuffed Cornish Hens Burgundy\n",
            "recipe_id: 230281, Product Name: World's Best Oreo® Fudge\n"
          ]
        }
      ],
      "source": [
        "user_id = 1\n",
        "product_id = 229875\n",
        "top_n = 10\n",
        "recommendations = get_hybrid_recommendations(user_id, product_id, top_n)\n",
        "\n",
        "print(f\"Hybrid Recommendations for User {user_id} based on Product {product_id}:\")\n",
        "# print(recommendations)\n",
        "for i, row in recommendations.iterrows():\n",
        "    print(f\"recipe_id: {row['recipe_id']}, Product Name: {row['recipe_name']}\")"
      ]
    }
  ],
  "metadata": {
    "colab": {
      "provenance": []
    },
    "kernelspec": {
      "display_name": "Python 3",
      "name": "python3"
    },
    "language_info": {
      "name": "python"
    }
  },
  "nbformat": 4,
  "nbformat_minor": 0
}
