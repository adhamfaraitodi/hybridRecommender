{
  "cells": [
    {
      "cell_type": "markdown",
      "metadata": {
        "id": "j3HDLXPyHieg"
      },
      "source": [
        "import dataset dan library"
      ]
    },
    {
      "cell_type": "code",
      "execution_count": 1,
      "metadata": {
        "colab": {
          "base_uri": "https://localhost:8080/"
        },
        "id": "SD6t2Pb6oCKS",
        "outputId": "8f699380-d7e4-4374-8b65-a991e56566d8"
      },
      "outputs": [
        {
          "name": "stdout",
          "output_type": "stream",
          "text": [
            "Collecting scikit-surprise\n",
            "  Downloading scikit-surprise-1.1.3.tar.gz (771 kB)\n",
            "\u001b[2K     \u001b[90m━━━━━━━━━━━━━━━━━━━━━━━━━━━━━━━━━━━━━━━━\u001b[0m \u001b[32m772.0/772.0 kB\u001b[0m \u001b[31m11.2 MB/s\u001b[0m eta \u001b[36m0:00:00\u001b[0m\n",
            "\u001b[?25h  Preparing metadata (setup.py) ... \u001b[?25l\u001b[?25hdone\n",
            "Requirement already satisfied: joblib>=1.0.0 in /usr/local/lib/python3.10/dist-packages (from scikit-surprise) (1.3.2)\n",
            "Requirement already satisfied: numpy>=1.17.3 in /usr/local/lib/python3.10/dist-packages (from scikit-surprise) (1.23.5)\n",
            "Requirement already satisfied: scipy>=1.3.2 in /usr/local/lib/python3.10/dist-packages (from scikit-surprise) (1.11.4)\n",
            "Building wheels for collected packages: scikit-surprise\n",
            "  Building wheel for scikit-surprise (setup.py) ... \u001b[?25l\u001b[?25hdone\n",
            "  Created wheel for scikit-surprise: filename=scikit_surprise-1.1.3-cp310-cp310-linux_x86_64.whl size=3163758 sha256=e7ba74c0f76e58519b1d1b4939f8a95cd8e76f9131b3e19c81c342ee8c054694\n",
            "  Stored in directory: /root/.cache/pip/wheels/a5/ca/a8/4e28def53797fdc4363ca4af740db15a9c2f1595ebc51fb445\n",
            "Successfully built scikit-surprise\n",
            "Installing collected packages: scikit-surprise\n",
            "Successfully installed scikit-surprise-1.1.3\n"
          ]
        }
      ],
      "source": [
        "!pip install scikit-surprise"
      ]
    },
    {
      "cell_type": "code",
      "execution_count": 2,
      "metadata": {
        "id": "13bbSi7ChkHC"
      },
      "outputs": [],
      "source": [
        "import pandas as pd\n",
        "import numpy as np\n",
        "from surprise import Dataset, Reader, SVD\n",
        "from surprise import accuracy\n",
        "from surprise import BaselineOnly\n",
        "from surprise.model_selection import cross_validate, train_test_split\n",
        "from sklearn.feature_extraction.text import TfidfVectorizer"
      ]
    },
    {
      "cell_type": "code",
      "execution_count": 3,
      "metadata": {
        "colab": {
          "base_uri": "https://localhost:8080/"
        },
        "id": "UzqiMNkfRAAe",
        "outputId": "b0ce823e-6364-4884-c4db-d88c642b2de6"
      },
      "outputs": [
        {
          "name": "stdout",
          "output_type": "stream",
          "text": [
            "   user_id  recipe_id  rating           dateLastModified  \\\n",
            "0        1     229860       5  2012-10-31T17:54:41.867\\n   \n",
            "1        2     229921       5   2012-11-17T16:49:10.54\\n   \n",
            "2        2     229940       5  2012-11-18T16:15:56.177\\n   \n",
            "3        2     229940       5   2012-11-19T19:12:26.82\\n   \n",
            "4        2     229906       5   2012-11-22T19:06:07.08\\n   \n",
            "\n",
            "                          recipe_name  \n",
            "0  Chef John's Pumpkin Cinnamon Rolls  \n",
            "1  Apple Chicken Sausage Brunch Braid  \n",
            "2                 Chicken Ranch Dijon  \n",
            "3                 Chicken Ranch Dijon  \n",
            "4     Mom's Candied Yams with Caramel  \n"
          ]
        }
      ],
      "source": [
        "df = pd.read_excel('.xlsx')\n",
        "print(df.head())"
      ]
    },
    {
      "cell_type": "code",
      "execution_count": 4,
      "metadata": {
        "colab": {
          "base_uri": "https://localhost:8080/"
        },
        "id": "l7NlJIOxBWA0",
        "outputId": "2fb30500-fb54-4b3d-d13b-edce5460a582"
      },
      "outputs": [
        {
          "name": "stderr",
          "output_type": "stream",
          "text": [
            "<ipython-input-4-47ab66826c36>:2: SettingWithCopyWarning: \n",
            "A value is trying to be set on a copy of a slice from a DataFrame.\n",
            "Try using .loc[row_indexer,col_indexer] = value instead\n",
            "\n",
            "See the caveats in the documentation: https://pandas.pydata.org/pandas-docs/stable/user_guide/indexing.html#returning-a-view-versus-a-copy\n",
            "  content_df['Content'] = content_df.apply(lambda row: ' '.join(row.dropna().astype(str)), axis=1)\n"
          ]
        }
      ],
      "source": [
        "content_df = df[['recipe_id', 'recipe_name']]\n",
        "content_df['Content'] = content_df.apply(lambda row: ' '.join(row.dropna().astype(str)), axis=1)\n",
        "\n",
        "\n",
        "tfidf_vectorizer = TfidfVectorizer()\n",
        "content_matrix = tfidf_vectorizer.fit_transform(content_df['Content'])\n",
        "from sklearn.metrics.pairwise import euclidean_distances\n",
        "content_distance = euclidean_distances(content_matrix)\n",
        "reader = Reader(rating_scale=(1, 5))\n",
        "data = Dataset.load_from_df(df[['user_id', 'recipe_id', 'rating']], reader)\n",
        "\n",
        "def get_content_based_recommendations(product_id, top_n):\n",
        "    index = content_df[content_df['recipe_id'] == product_id].index[0]\n",
        "    distance_scores = content_distance[index]\n",
        "    similar_indices = distance_scores.argsort()[:top_n + 1]\n",
        "    recommendations = content_df.loc[similar_indices, 'recipe_id'].values\n",
        "    return recommendations\n"
      ]
    },
    {
      "cell_type": "code",
      "execution_count": 16,
      "metadata": {
        "colab": {
          "base_uri": "https://localhost:8080/"
        },
        "id": "vUxDogwRUlNR",
        "outputId": "3eb60be8-5644-4b38-f0e2-1cd2a38e353b"
      },
      "outputs": [
        {
          "name": "stdout",
          "output_type": "stream",
          "text": [
            "RMSE: 0.8764\n",
            "MAE:  0.4320\n"
          ]
        },
        {
          "data": {
            "text/plain": [
              "0.432"
            ]
          },
          "execution_count": 16,
          "metadata": {},
          "output_type": "execute_result"
        }
      ],
      "source": [
        "reader = Reader(rating_scale=(1, 5))\n",
        "data = Dataset.load_from_df(df[['user_id', 'recipe_id', 'rating']], reader)\n",
        "\n",
        "trainset, testset = train_test_split(data, test_size=.25)\n",
        "all_predictions = []\n",
        "\n",
        "\n",
        "for user_id, product_id, true_rating in testset:\n",
        "    content_based_recommendations = get_content_based_recommendations(product_id, top_n=10)\n",
        "    if product_id in content_based_recommendations:\n",
        "        predicted_rating = 5.0\n",
        "    else:\n",
        "        predicted_rating = 1.0\n",
        "    all_predictions.append((user_id, product_id, true_rating, predicted_rating,None))\n",
        "accuracy.rmse(all_predictions)\n",
        "accuracy.mae(all_predictions)"
      ]
    },
    {
      "cell_type": "code",
      "execution_count": 7,
      "metadata": {
        "id": "3Y7lPBleBXFC"
      },
      "outputs": [],
      "source": [
        "algo = SVD()\n",
        "trainset = data.build_full_trainset()\n",
        "algo.fit(trainset)\n",
        "\n",
        "def get_collaborative_filtering_recommendations(user_id, top_n):\n",
        "    testset = trainset.build_anti_testset()\n",
        "    testset = filter(lambda x: x[0] == user_id, testset)\n",
        "    predictions = algo.test(testset)\n",
        "    predictions.sort(key=lambda x: x.est, reverse=True)\n",
        "    recommendations = [prediction.iid for prediction in predictions[:top_n]]\n",
        "    return recommendations"
      ]
    },
    {
      "cell_type": "code",
      "execution_count": 8,
      "metadata": {
        "colab": {
          "base_uri": "https://localhost:8080/"
        },
        "id": "wumlLCpTUIXq",
        "outputId": "7f99fb2b-752b-44eb-d93a-626982c9a574"
      },
      "outputs": [
        {
          "name": "stdout",
          "output_type": "stream",
          "text": [
            "Estimating biases using sgd...\n",
            "RMSE: 0.8170\n",
            "MAE:  0.6265\n"
          ]
        },
        {
          "data": {
            "text/plain": [
              "0.6264848219085672"
            ]
          },
          "execution_count": 8,
          "metadata": {},
          "output_type": "execute_result"
        }
      ],
      "source": [
        "reader = Reader(rating_scale=(1, 5))\n",
        "data = Dataset.load_from_df(df[['user_id', 'recipe_id', 'rating']], reader)\n",
        "trainset, testset = train_test_split(data, test_size=.25)\n",
        "\n",
        "bsl_options = {'method': 'sgd', 'learning_rate': .00005,}\n",
        "algo = BaselineOnly(bsl_options=bsl_options)\n",
        "\n",
        "\n",
        "algo.fit(trainset)\n",
        "predictions = algo.test(testset)\n",
        "accuracy.rmse(predictions)\n",
        "accuracy.mae(predictions)"
      ]
    },
    {
      "cell_type": "code",
      "execution_count": 9,
      "metadata": {
        "id": "kkJDrCjgBZNV"
      },
      "outputs": [],
      "source": [
        "from collections import Counter\n",
        "\n",
        "def get_hybrid_recommendations(user_id, product_id, top_n):\n",
        "    content_based_recommendations = get_content_based_recommendations(product_id, top_n)\n",
        "    collaborative_filtering_recommendations = get_collaborative_filtering_recommendations(user_id, top_n)\n",
        "\n",
        "    all_recommendations = list(content_based_recommendations) + list(collaborative_filtering_recommendations)\n",
        "\n",
        "    recommendation_counts = Counter(all_recommendations)\n",
        "    hybrid_recommendations = sorted(recommendation_counts, key=lambda x: (-recommendation_counts[x], all_recommendations.index(x)))\n",
        "    hybrid_recommendations = hybrid_recommendations[:top_n]\n",
        "\n",
        "    hybrid_recommendations = content_df[content_df['recipe_id'].isin(hybrid_recommendations)].drop_duplicates(subset=['recipe_id'])\n",
        "    hybrid_recommendations = hybrid_recommendations[['recipe_id', 'recipe_name']]\n",
        "\n",
        "    return hybrid_recommendations"
      ]
    },
    {
      "cell_type": "code",
      "execution_count": 10,
      "metadata": {
        "colab": {
          "base_uri": "https://localhost:8080/"
        },
        "id": "sbcaVsfSBbMA",
        "outputId": "7092bc00-8508-4308-d5f7-b223ead0fc62"
      },
      "outputs": [
        {
          "name": "stdout",
          "output_type": "stream",
          "text": [
            "Hybrid Recommendations for User 1 based on Product 229875:\n",
            "recipe_id: 229878, Product Name: Wonderful Gluten Free White Bread\n",
            "recipe_id: 229875, Product Name: Gluten-Free European Apple Cake\n",
            "recipe_id: 229949, Product Name: Creamy White Chili\n",
            "recipe_id: 229957, Product Name: Slow Cooker Au Jus Pot Roast\n",
            "recipe_id: 230107, Product Name: Apple Honey Glazed Chicken\n",
            "recipe_id: 230132, Product Name: Chef John's Pumpkin Pie\n",
            "recipe_id: 230118, Product Name: Gluten Free Rice Chicken Stuffing\n",
            "recipe_id: 230169, Product Name: Banana-Nog Cake\n",
            "recipe_id: 230303, Product Name: Apple Cinnamon Breakfast Quinoa\n",
            "recipe_id: 230558, Product Name: (Gluten Free) Magic Cookie Bars\n"
          ]
        }
      ],
      "source": [
        "user_id = 1\n",
        "product_id = 229875\n",
        "top_n = 10\n",
        "recommendations = get_hybrid_recommendations(user_id, product_id, top_n)\n",
        "\n",
        "print(f\"Hybrid Recommendations for User {user_id} based on Product {product_id}:\")\n",
        "for i, row in recommendations.iterrows():\n",
        "    print(f\"recipe_id: {row['recipe_id']}, Product Name: {row['recipe_name']}\")"
      ]
    }
  ],
  "metadata": {
    "colab": {
      "provenance": []
    },
    "kernelspec": {
      "display_name": "Python 3",
      "name": "python3"
    },
    "language_info": {
      "name": "python"
    }
  },
  "nbformat": 4,
  "nbformat_minor": 0
}
